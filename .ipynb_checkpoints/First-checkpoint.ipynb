{
 "cells": [
  {
   "cell_type": "code",
   "execution_count": 3,
   "id": "eb44ab97-114d-4796-9c98-d3a7fa55390a",
   "metadata": {},
   "outputs": [
    {
     "name": "stdout",
     "output_type": "stream",
     "text": [
      "hello humans, i am alive\n"
     ]
    }
   ],
   "source": [
    "print(\"hello humans, i am alive\")"
   ]
  },
  {
   "cell_type": "code",
   "execution_count": null,
   "id": "0015bbc1-bdf4-40c4-b485-aa93ee1481e2",
   "metadata": {},
   "outputs": [],
   "source": []
  }
 ],
 "metadata": {
  "kernelspec": {
   "display_name": "Python 3 (ipykernel)",
   "language": "python",
   "name": "python3"
  },
  "language_info": {
   "codemirror_mode": {
    "name": "ipython",
    "version": 3
   },
   "file_extension": ".py",
   "mimetype": "text/x-python",
   "name": "python",
   "nbconvert_exporter": "python",
   "pygments_lexer": "ipython3",
   "version": "3.9.13"
  }
 },
 "nbformat": 4,
 "nbformat_minor": 5
}
